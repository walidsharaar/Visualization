{
 "cells": [
  {
   "cell_type": "markdown",
   "id": "7375ccb5",
   "metadata": {},
   "source": [
    "# Statistical Charts\n",
    "is defined as the pictorial representation of statistical data in graphical form. The statistical graphs are used to represent a set of data to make it easier to understand and interpret statistical information."
   ]
  },
  {
   "cell_type": "markdown",
   "id": "4e03f326",
   "metadata": {},
   "source": [
    "## Histogram\n",
    "\n",
    "is a graphical display of data using bars of different heights, it is similar to a Bar chart, but a histogram groups into range. The height of each bar shows how many fall intpp each range."
   ]
  },
  {
   "cell_type": "code",
   "execution_count": null,
   "id": "ff999f97",
   "metadata": {},
   "outputs": [],
   "source": []
  }
 ],
 "metadata": {
  "kernelspec": {
   "display_name": "Python 3 (ipykernel)",
   "language": "python",
   "name": "python3"
  },
  "language_info": {
   "codemirror_mode": {
    "name": "ipython",
    "version": 3
   },
   "file_extension": ".py",
   "mimetype": "text/x-python",
   "name": "python",
   "nbconvert_exporter": "python",
   "pygments_lexer": "ipython3",
   "version": "3.9.12"
  }
 },
 "nbformat": 4,
 "nbformat_minor": 5
}
