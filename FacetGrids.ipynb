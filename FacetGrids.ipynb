{
 "cells": [
  {
   "cell_type": "markdown",
   "id": "7f7a010e",
   "metadata": {},
   "source": [
    "# Facet Grids\n",
    "\n",
    "Also known as trellis plot or small multiples, are figures made up of multiple subplots which have the same set of axes, where each subplot shows a subset of t"
   ]
  }
 ],
 "metadata": {
  "kernelspec": {
   "display_name": "Python 3 (ipykernel)",
   "language": "python",
   "name": "python3"
  },
  "language_info": {
   "codemirror_mode": {
    "name": "ipython",
    "version": 3
   },
   "file_extension": ".py",
   "mimetype": "text/x-python",
   "name": "python",
   "nbconvert_exporter": "python",
   "pygments_lexer": "ipython3",
   "version": "3.9.12"
  }
 },
 "nbformat": 4,
 "nbformat_minor": 5
}
