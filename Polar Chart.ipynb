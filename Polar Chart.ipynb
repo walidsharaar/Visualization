{
 "cells": [
  {
   "cell_type": "markdown",
   "id": "f067733f",
   "metadata": {},
   "source": [
    "# Polar Charts\n",
    "\n",
    "It is common variation of circular graphs, in polar charts, a series is represented by a closed curve that connects points in the pairs coordinate system. Each data point is determined by the distance from the pole(the radial coordinate) and the angle from the fixed direction(the angular coordinate)\n",
    "They are generally used when we cyclic Variables. Cyclic variables are those variables which repeat itself a cetain period of time."
   ]
  },
  {
   "cell_type": "code",
   "execution_count": null,
   "id": "c85e9e09",
   "metadata": {},
   "outputs": [],
   "source": []
  }
 ],
 "metadata": {
  "kernelspec": {
   "display_name": "Python 3 (ipykernel)",
   "language": "python",
   "name": "python3"
  },
  "language_info": {
   "codemirror_mode": {
    "name": "ipython",
    "version": 3
   },
   "file_extension": ".py",
   "mimetype": "text/x-python",
   "name": "python",
   "nbconvert_exporter": "python",
   "pygments_lexer": "ipython3",
   "version": "3.9.12"
  }
 },
 "nbformat": 4,
 "nbformat_minor": 5
}
