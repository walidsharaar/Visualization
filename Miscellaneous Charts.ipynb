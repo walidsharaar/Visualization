{
 "cells": [
  {
   "cell_type": "markdown",
   "id": "9fac23d4",
   "metadata": {},
   "source": [
    "# Miscellaneous Charts\n",
    "1. Sunburst\n",
    "2. Parallel\n",
    "3. Funnel\n",
    "4. Gantt\n",
    "5. Ternary\n",
    "6. Tree\n",
    "7. Network"
   ]
  },
  {
   "cell_type": "code",
   "execution_count": null,
   "id": "b0f1160e",
   "metadata": {},
   "outputs": [],
   "source": []
  }
 ],
 "metadata": {
  "kernelspec": {
   "display_name": "Python 3 (ipykernel)",
   "language": "python",
   "name": "python3"
  },
  "language_info": {
   "codemirror_mode": {
    "name": "ipython",
    "version": 3
   },
   "file_extension": ".py",
   "mimetype": "text/x-python",
   "name": "python",
   "nbconvert_exporter": "python",
   "pygments_lexer": "ipython3",
   "version": "3.9.12"
  }
 },
 "nbformat": 4,
 "nbformat_minor": 5
}
