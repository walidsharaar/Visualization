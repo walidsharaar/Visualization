{
 "cells": [
  {
   "cell_type": "markdown",
   "id": "5ad36520",
   "metadata": {},
   "source": [
    "# Line Chart\n",
    "A line chart is a type of chart which displays information as a series of data points called markers connected by straight line segments"
   ]
  },
  {
   "cell_type": "markdown",
   "id": "6787e76e",
   "metadata": {},
   "source": [
    "# Area Chart\n",
    "it displays graphically quantitative data. it is based on the line chart. the area between axis and line are commonly emphasized with colors, textures and hatchings\n"
   ]
  },
  {
   "cell_type": "markdown",
   "id": "2338e60f",
   "metadata": {},
   "source": [
    "# Bar Chart\n",
    "it presents categorical data with rectangular bars with height or length propotional to the values that they represent. The bars can be plotted vertically or horizontally."
   ]
  }
 ],
 "metadata": {
  "kernelspec": {
   "display_name": "Python 3 (ipykernel)",
   "language": "python",
   "name": "python3"
  },
  "language_info": {
   "codemirror_mode": {
    "name": "ipython",
    "version": 3
   },
   "file_extension": ".py",
   "mimetype": "text/x-python",
   "name": "python",
   "nbconvert_exporter": "python",
   "pygments_lexer": "ipython3",
   "version": "3.9.12"
  }
 },
 "nbformat": 4,
 "nbformat_minor": 5
}
