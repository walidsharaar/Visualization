{
 "cells": [
  {
   "cell_type": "markdown",
   "id": "11f5548c",
   "metadata": {},
   "source": [
    "# 3D Charts\n",
    "\n",
    "3D Chart simply means a Chart which is having 3 Dimensions i.r"
   ]
  }
 ],
 "metadata": {
  "kernelspec": {
   "display_name": "Python 3 (ipykernel)",
   "language": "python",
   "name": "python3"
  },
  "language_info": {
   "codemirror_mode": {
    "name": "ipython",
    "version": 3
   },
   "file_extension": ".py",
   "mimetype": "text/x-python",
   "name": "python",
   "nbconvert_exporter": "python",
   "pygments_lexer": "ipython3",
   "version": "3.9.12"
  }
 },
 "nbformat": 4,
 "nbformat_minor": 5
}
